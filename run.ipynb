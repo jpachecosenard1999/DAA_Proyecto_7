{
 "cells": [
  {
   "cell_type": "code",
   "execution_count": 1,
   "metadata": {},
   "outputs": [],
   "source": [
    "from Transformada_Rapida_Fourier import procesar_audio"
   ]
  },
  {
   "cell_type": "code",
   "execution_count": 2,
   "metadata": {},
   "outputs": [
    {
     "ename": "ValueError",
     "evalue": "operands could not be broadcast together with shapes (3,) (4,) ",
     "output_type": "error",
     "traceback": [
      "\u001b[1;31m---------------------------------------------------------------------------\u001b[0m",
      "\u001b[1;31mValueError\u001b[0m                                Traceback (most recent call last)",
      "Cell \u001b[1;32mIn[2], line 3\u001b[0m\n\u001b[0;32m      1\u001b[0m archivo_entrada \u001b[38;5;241m=\u001b[39m \u001b[38;5;124m\"\u001b[39m\u001b[38;5;124mentrada.wav\u001b[39m\u001b[38;5;124m\"\u001b[39m\n\u001b[0;32m      2\u001b[0m archivo_salida \u001b[38;5;241m=\u001b[39m \u001b[38;5;124m\"\u001b[39m\u001b[38;5;124msalida_filtrada.wav\u001b[39m\u001b[38;5;124m\"\u001b[39m\n\u001b[1;32m----> 3\u001b[0m \u001b[43mprocesar_audio\u001b[49m\u001b[43m(\u001b[49m\u001b[43marchivo_entrada\u001b[49m\u001b[43m,\u001b[49m\u001b[43m \u001b[49m\u001b[43marchivo_salida\u001b[49m\u001b[43m,\u001b[49m\u001b[43m \u001b[49m\u001b[43mfreq_corte\u001b[49m\u001b[38;5;241;43m=\u001b[39;49m\u001b[38;5;241;43m1000\u001b[39;49m\u001b[43m)\u001b[49m\n",
      "File \u001b[1;32mc:\\Users\\jpach\\Documents\\GitHub\\DAA_Proyecto_7\\DAA_Proyecto_7\\Transformada_Rapida_Fourier.py:58\u001b[0m, in \u001b[0;36mprocesar_audio\u001b[1;34m(archivo_entrada, archivo_salida, freq_corte)\u001b[0m\n\u001b[0;32m     55\u001b[0m     datos \u001b[38;5;241m=\u001b[39m datos[:, \u001b[38;5;241m0\u001b[39m]\n\u001b[0;32m     57\u001b[0m \u001b[38;5;66;03m# Aplicar FFT\u001b[39;00m\n\u001b[1;32m---> 58\u001b[0m X \u001b[38;5;241m=\u001b[39m \u001b[43mfft\u001b[49m\u001b[43m(\u001b[49m\u001b[43mdatos\u001b[49m\u001b[43m)\u001b[49m\n\u001b[0;32m     60\u001b[0m \u001b[38;5;66;03m# Calcular el espectro de frecuencias\u001b[39;00m\n\u001b[0;32m     61\u001b[0m freq \u001b[38;5;241m=\u001b[39m np\u001b[38;5;241m.\u001b[39mfft\u001b[38;5;241m.\u001b[39mfftfreq(\u001b[38;5;28mlen\u001b[39m(X), \u001b[38;5;241m1\u001b[39m\u001b[38;5;241m/\u001b[39mfreq_muestreo)\n",
      "File \u001b[1;32mc:\\Users\\jpach\\Documents\\GitHub\\DAA_Proyecto_7\\DAA_Proyecto_7\\Transformada_Rapida_Fourier.py:15\u001b[0m, in \u001b[0;36mfft\u001b[1;34m(x)\u001b[0m\n\u001b[0;32m     12\u001b[0m     \u001b[38;5;28;01mreturn\u001b[39;00m x\n\u001b[0;32m     14\u001b[0m \u001b[38;5;66;03m# Dividir la señal en pares e impares\u001b[39;00m\n\u001b[1;32m---> 15\u001b[0m pares \u001b[38;5;241m=\u001b[39m \u001b[43mfft\u001b[49m\u001b[43m(\u001b[49m\u001b[43mx\u001b[49m\u001b[43m[\u001b[49m\u001b[38;5;241;43m0\u001b[39;49m\u001b[43m:\u001b[49m\u001b[43m:\u001b[49m\u001b[38;5;241;43m2\u001b[39;49m\u001b[43m]\u001b[49m\u001b[43m)\u001b[49m\n\u001b[0;32m     16\u001b[0m impares \u001b[38;5;241m=\u001b[39m fft(x[\u001b[38;5;241m1\u001b[39m::\u001b[38;5;241m2\u001b[39m])\n\u001b[0;32m     18\u001b[0m \u001b[38;5;66;03m# Factores de giro\u001b[39;00m\n",
      "File \u001b[1;32mc:\\Users\\jpach\\Documents\\GitHub\\DAA_Proyecto_7\\DAA_Proyecto_7\\Transformada_Rapida_Fourier.py:15\u001b[0m, in \u001b[0;36mfft\u001b[1;34m(x)\u001b[0m\n\u001b[0;32m     12\u001b[0m     \u001b[38;5;28;01mreturn\u001b[39;00m x\n\u001b[0;32m     14\u001b[0m \u001b[38;5;66;03m# Dividir la señal en pares e impares\u001b[39;00m\n\u001b[1;32m---> 15\u001b[0m pares \u001b[38;5;241m=\u001b[39m \u001b[43mfft\u001b[49m\u001b[43m(\u001b[49m\u001b[43mx\u001b[49m\u001b[43m[\u001b[49m\u001b[38;5;241;43m0\u001b[39;49m\u001b[43m:\u001b[49m\u001b[43m:\u001b[49m\u001b[38;5;241;43m2\u001b[39;49m\u001b[43m]\u001b[49m\u001b[43m)\u001b[49m\n\u001b[0;32m     16\u001b[0m impares \u001b[38;5;241m=\u001b[39m fft(x[\u001b[38;5;241m1\u001b[39m::\u001b[38;5;241m2\u001b[39m])\n\u001b[0;32m     18\u001b[0m \u001b[38;5;66;03m# Factores de giro\u001b[39;00m\n",
      "    \u001b[1;31m[... skipping similar frames: fft at line 15 (14 times)]\u001b[0m\n",
      "File \u001b[1;32mc:\\Users\\jpach\\Documents\\GitHub\\DAA_Proyecto_7\\DAA_Proyecto_7\\Transformada_Rapida_Fourier.py:15\u001b[0m, in \u001b[0;36mfft\u001b[1;34m(x)\u001b[0m\n\u001b[0;32m     12\u001b[0m     \u001b[38;5;28;01mreturn\u001b[39;00m x\n\u001b[0;32m     14\u001b[0m \u001b[38;5;66;03m# Dividir la señal en pares e impares\u001b[39;00m\n\u001b[1;32m---> 15\u001b[0m pares \u001b[38;5;241m=\u001b[39m \u001b[43mfft\u001b[49m\u001b[43m(\u001b[49m\u001b[43mx\u001b[49m\u001b[43m[\u001b[49m\u001b[38;5;241;43m0\u001b[39;49m\u001b[43m:\u001b[49m\u001b[43m:\u001b[49m\u001b[38;5;241;43m2\u001b[39;49m\u001b[43m]\u001b[49m\u001b[43m)\u001b[49m\n\u001b[0;32m     16\u001b[0m impares \u001b[38;5;241m=\u001b[39m fft(x[\u001b[38;5;241m1\u001b[39m::\u001b[38;5;241m2\u001b[39m])\n\u001b[0;32m     18\u001b[0m \u001b[38;5;66;03m# Factores de giro\u001b[39;00m\n",
      "File \u001b[1;32mc:\\Users\\jpach\\Documents\\GitHub\\DAA_Proyecto_7\\DAA_Proyecto_7\\Transformada_Rapida_Fourier.py:23\u001b[0m, in \u001b[0;36mfft\u001b[1;34m(x)\u001b[0m\n\u001b[0;32m     19\u001b[0m factor \u001b[38;5;241m=\u001b[39m np\u001b[38;5;241m.\u001b[39mexp(\u001b[38;5;241m-\u001b[39m\u001b[38;5;241m2\u001b[39mj \u001b[38;5;241m*\u001b[39m np\u001b[38;5;241m.\u001b[39mpi \u001b[38;5;241m*\u001b[39m np\u001b[38;5;241m.\u001b[39marange(N) \u001b[38;5;241m/\u001b[39m N)\n\u001b[0;32m     21\u001b[0m \u001b[38;5;66;03m# Combinar resultados\u001b[39;00m\n\u001b[0;32m     22\u001b[0m \u001b[38;5;28;01mreturn\u001b[39;00m np\u001b[38;5;241m.\u001b[39mconcatenate([\n\u001b[1;32m---> 23\u001b[0m     pares \u001b[38;5;241m+\u001b[39m \u001b[43mfactor\u001b[49m\u001b[43m[\u001b[49m\u001b[43m:\u001b[49m\u001b[43mN\u001b[49m\u001b[38;5;241;43m/\u001b[39;49m\u001b[38;5;241;43m/\u001b[39;49m\u001b[38;5;241;43m2\u001b[39;49m\u001b[43m]\u001b[49m\u001b[43m \u001b[49m\u001b[38;5;241;43m*\u001b[39;49m\u001b[43m \u001b[49m\u001b[43mimpares\u001b[49m,\n\u001b[0;32m     24\u001b[0m     pares \u001b[38;5;241m+\u001b[39m factor[N\u001b[38;5;241m/\u001b[39m\u001b[38;5;241m/\u001b[39m\u001b[38;5;241m2\u001b[39m:] \u001b[38;5;241m*\u001b[39m impares\n\u001b[0;32m     25\u001b[0m ])\n",
      "\u001b[1;31mValueError\u001b[0m: operands could not be broadcast together with shapes (3,) (4,) "
     ]
    }
   ],
   "source": [
    "archivo_entrada = \"entrada.wav\"\n",
    "archivo_salida = \"salida_filtrada.wav\"\n",
    "procesar_audio(archivo_entrada, archivo_salida, freq_corte=1000)"
   ]
  }
 ],
 "metadata": {
  "kernelspec": {
   "display_name": "Python 3",
   "language": "python",
   "name": "python3"
  },
  "language_info": {
   "codemirror_mode": {
    "name": "ipython",
    "version": 3
   },
   "file_extension": ".py",
   "mimetype": "text/x-python",
   "name": "python",
   "nbconvert_exporter": "python",
   "pygments_lexer": "ipython3",
   "version": "3.12.5"
  }
 },
 "nbformat": 4,
 "nbformat_minor": 2
}
